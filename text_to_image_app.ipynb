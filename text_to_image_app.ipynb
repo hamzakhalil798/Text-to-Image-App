{
  "cells": [
    {
      "cell_type": "markdown",
      "source": [
        "#WELCOME TO IMAGE TO TEXT WEB APP"
      ],
      "metadata": {
        "id": "XIoneluIYSVp"
      }
    },
    {
      "cell_type": "code",
      "source": [
        "from google.colab import drive\n",
        "drive.mount('/content/drive')"
      ],
      "metadata": {
        "colab": {
          "base_uri": "https://localhost:8080/"
        },
        "id": "VSGgV7Y5CITe",
        "outputId": "8e893c7d-0402-4d40-8e82-97f502ecd1e4"
      },
      "execution_count": 1,
      "outputs": [
        {
          "output_type": "stream",
          "name": "stdout",
          "text": [
            "Mounted at /content/drive\n"
          ]
        }
      ]
    },
    {
      "cell_type": "code",
      "source": [
        "cd /content/drive/MyDrive/text_to_image"
      ],
      "metadata": {
        "colab": {
          "base_uri": "https://localhost:8080/"
        },
        "id": "E90iFJF0DVpT",
        "outputId": "ff8ce31c-15a9-4b58-ac48-54e54a8be5f6"
      },
      "execution_count": 2,
      "outputs": [
        {
          "output_type": "stream",
          "name": "stdout",
          "text": [
            "/content/drive/MyDrive/text_to_image\n"
          ]
        }
      ]
    },
    {
      "cell_type": "markdown",
      "metadata": {
        "id": "Zl_ZFisFApeh"
      },
      "source": [
        "### Setting up Enviornment"
      ]
    },
    {
      "cell_type": "code",
      "execution_count": 3,
      "metadata": {
        "cellView": "code",
        "colab": {
          "base_uri": "https://localhost:8080/"
        },
        "id": "ix_xt4X1_6F4",
        "outputId": "bfe2ebf7-8edb-45fb-8c25-7e78c6a0d2fb"
      },
      "outputs": [
        {
          "output_type": "stream",
          "name": "stdout",
          "text": [
            "Fri Mar 31 15:57:17 2023       \n",
            "+-----------------------------------------------------------------------------+\n",
            "| NVIDIA-SMI 525.85.12    Driver Version: 525.85.12    CUDA Version: 12.0     |\n",
            "|-------------------------------+----------------------+----------------------+\n",
            "| GPU  Name        Persistence-M| Bus-Id        Disp.A | Volatile Uncorr. ECC |\n",
            "| Fan  Temp  Perf  Pwr:Usage/Cap|         Memory-Usage | GPU-Util  Compute M. |\n",
            "|                               |                      |               MIG M. |\n",
            "|===============================+======================+======================|\n",
            "|   0  Tesla T4            Off  | 00000000:00:04.0 Off |                    0 |\n",
            "| N/A   43C    P8     9W /  70W |      0MiB / 15360MiB |      0%      Default |\n",
            "|                               |                      |                  N/A |\n",
            "+-------------------------------+----------------------+----------------------+\n",
            "                                                                               \n",
            "+-----------------------------------------------------------------------------+\n",
            "| Processes:                                                                  |\n",
            "|  GPU   GI   CI        PID   Type   Process name                  GPU Memory |\n",
            "|        ID   ID                                                   Usage      |\n",
            "|=============================================================================|\n",
            "|  No running processes found                                                 |\n",
            "+-----------------------------------------------------------------------------+\n",
            "Looking in indexes: https://pypi.org/simple, https://us-python.pkg.dev/colab-wheels/public/simple/\n",
            "Collecting min-dalle\n",
            "  Downloading min-dalle-0.4.11.tar.gz (10 kB)\n",
            "  Preparing metadata (setup.py) ... \u001b[?25l\u001b[?25hdone\n",
            "Requirement already satisfied: torch>=1.11 in /usr/local/lib/python3.9/dist-packages (from min-dalle) (1.13.1+cu116)\n",
            "Requirement already satisfied: typing_extensions>=4.1 in /usr/local/lib/python3.9/dist-packages (from min-dalle) (4.5.0)\n",
            "Requirement already satisfied: numpy>=1.21 in /usr/local/lib/python3.9/dist-packages (from min-dalle) (1.22.4)\n",
            "Requirement already satisfied: pillow>=7.1 in /usr/local/lib/python3.9/dist-packages (from min-dalle) (8.4.0)\n",
            "Requirement already satisfied: requests>=2.23 in /usr/local/lib/python3.9/dist-packages (from min-dalle) (2.27.1)\n",
            "Collecting emoji\n",
            "  Downloading emoji-2.2.0.tar.gz (240 kB)\n",
            "\u001b[2K     \u001b[90m━━━━━━━━━━━━━━━━━━━━━━━━━━━━━━━━━━━━━━\u001b[0m \u001b[32m240.9/240.9 KB\u001b[0m \u001b[31m22.4 MB/s\u001b[0m eta \u001b[36m0:00:00\u001b[0m\n",
            "\u001b[?25h  Preparing metadata (setup.py) ... \u001b[?25l\u001b[?25hdone\n",
            "Requirement already satisfied: urllib3<1.27,>=1.21.1 in /usr/local/lib/python3.9/dist-packages (from requests>=2.23->min-dalle) (1.26.15)\n",
            "Requirement already satisfied: certifi>=2017.4.17 in /usr/local/lib/python3.9/dist-packages (from requests>=2.23->min-dalle) (2022.12.7)\n",
            "Requirement already satisfied: idna<4,>=2.5 in /usr/local/lib/python3.9/dist-packages (from requests>=2.23->min-dalle) (3.4)\n",
            "Requirement already satisfied: charset-normalizer~=2.0.0 in /usr/local/lib/python3.9/dist-packages (from requests>=2.23->min-dalle) (2.0.12)\n",
            "Building wheels for collected packages: min-dalle, emoji\n",
            "  Building wheel for min-dalle (setup.py) ... \u001b[?25l\u001b[?25hdone\n",
            "  Created wheel for min-dalle: filename=min_dalle-0.4.11-py3-none-any.whl size=10538 sha256=db761e6f151de2d71cae4c1158e90215ca96427536ae82ec6a8cd14e4f77c5db\n",
            "  Stored in directory: /root/.cache/pip/wheels/99/d0/db/383b84feca47e4955772284462d825f1a9557661057658ca80\n",
            "  Building wheel for emoji (setup.py) ... \u001b[?25l\u001b[?25hdone\n",
            "  Created wheel for emoji: filename=emoji-2.2.0-py3-none-any.whl size=234926 sha256=9ecfc4d748b3df24ec620330707c1ffb603c340e7555bf4bd089a470c5ffc5d5\n",
            "  Stored in directory: /root/.cache/pip/wheels/9a/b8/0f/f580817231cbf59f6ade9fd132ff60ada1de9f7dc85521f857\n",
            "Successfully built min-dalle emoji\n",
            "Installing collected packages: emoji, min-dalle\n",
            "Successfully installed emoji-2.2.0 min-dalle-0.4.11\n"
          ]
        }
      ],
      "source": [
        "\n",
        "! nvidia-smi\n",
        "! pip install min-dalle"
      ]
    },
    {
      "cell_type": "markdown",
      "source": [
        "#Running App"
      ],
      "metadata": {
        "id": "O33-fZh0Xy1Q"
      }
    },
    {
      "cell_type": "markdown",
      "source": [
        "#Run the Cell and it will generate a link , Click on the link to open app on brower."
      ],
      "metadata": {
        "id": "MMfVljhJX6jZ"
      }
    },
    {
      "cell_type": "code",
      "source": [
        "from google.colab.output import eval_js\n",
        "\n",
        "print(eval_js(\"google.colab.kernel.proxyPort(5000)\"))"
      ],
      "metadata": {
        "colab": {
          "base_uri": "https://localhost:8080/",
          "height": 34
        },
        "id": "7WNYO4reEBtt",
        "outputId": "3c7be38b-d3ec-4815-f45c-09761ad27aa1"
      },
      "execution_count": 4,
      "outputs": [
        {
          "output_type": "stream",
          "name": "stdout",
          "text": [
            "https://kdr49xwf5j-496ff2e9c6d22116-5000-colab.googleusercontent.com/\n"
          ]
        }
      ]
    },
    {
      "cell_type": "markdown",
      "source": [
        "#App Will take some time duing the first run as it will download few models."
      ],
      "metadata": {
        "id": "1ILml7DzY9df"
      }
    },
    {
      "cell_type": "code",
      "source": [
        "!python app.py"
      ],
      "metadata": {
        "colab": {
          "base_uri": "https://localhost:8080/"
        },
        "id": "7eBwae6nXsbT",
        "outputId": "ff61481d-3691-4a66-9a81-d3ff7c2b13b1"
      },
      "execution_count": 5,
      "outputs": [
        {
          "output_type": "stream",
          "name": "stdout",
          "text": [
            "using device cuda\n",
            "downloading tokenizer params\n",
            "intializing TextTokenizer\n",
            " * Serving Flask app 'app'\n",
            " * Debug mode: off\n",
            "\u001b[31m\u001b[1mWARNING: This is a development server. Do not use it in a production deployment. Use a production WSGI server instead.\u001b[0m\n",
            " * Running on http://127.0.0.1:5000\n",
            "\u001b[33mPress CTRL+C to quit\u001b[0m\n",
            "127.0.0.1 - - [31/Mar/2023 15:57:44] \"GET / HTTP/1.1\" 200 -\n",
            "127.0.0.1 - - [31/Mar/2023 15:57:45] \"\u001b[33mGET /favicon.ico HTTP/1.1\u001b[0m\" 404 -\n",
            "downloading encoder params\n",
            "initializing DalleBartEncoder\n",
            "downloading decoder params\n",
            "initializing DalleBartDecoder\n",
            "downloading detokenizer params\n",
            "initializing VQGanDetokenizer\n",
            "127.0.0.1 - - [31/Mar/2023 15:59:23] \"POST /generate-image HTTP/1.1\" 200 -\n",
            "127.0.0.1 - - [31/Mar/2023 15:59:24] \"GET /static/predictions/output.png HTTP/1.1\" 200 -\n",
            "127.0.0.1 - - [31/Mar/2023 15:59:26] \"\u001b[33mGET /favicon.ico HTTP/1.1\u001b[0m\" 404 -\n",
            "127.0.0.1 - - [31/Mar/2023 15:59:32] \"GET / HTTP/1.1\" 200 -\n",
            "127.0.0.1 - - [31/Mar/2023 15:59:32] \"\u001b[33mGET /favicon.ico HTTP/1.1\u001b[0m\" 404 -\n"
          ]
        }
      ]
    },
    {
      "cell_type": "code",
      "source": [],
      "metadata": {
        "id": "-43pJdu1D3I6"
      },
      "execution_count": null,
      "outputs": []
    }
  ],
  "metadata": {
    "accelerator": "GPU",
    "colab": {
      "provenance": []
    },
    "gpuClass": "standard",
    "kernelspec": {
      "display_name": "Python 3.9.13 64-bit",
      "language": "python",
      "name": "python3"
    },
    "language_info": {
      "name": "python",
      "version": "3.9.13"
    },
    "vscode": {
      "interpreter": {
        "hash": "b0fa6594d8f4cbf19f97940f81e996739fb7646882a419484c72d19e05852a7e"
      }
    }
  },
  "nbformat": 4,
  "nbformat_minor": 0
}